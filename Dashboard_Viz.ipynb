# Install required packages
!pip install dash plotly geopandas pandas dash-bootstrap-components kaleido requests

import dash
from dash import dcc, html, Input, Output, State, dash_table
import dash_bootstrap_components as dbc
import plotly.express as px
import plotly.graph_objects as go
import pandas as pd
import geopandas as gpd
import json
import os
from pathlib import Path
import base64
import io
import requests

# Initialize the Dash app with a professional theme
app = dash.Dash(__name__, external_stylesheets=[dbc.themes.BOOTSTRAP])
app.title = "E-HDT Charger Professional Analysis Dashboard"

# Define priority countries (will be auto-populated from data)
PRIORITY_COUNTRIES = []

# List of GitHub URLs to load
GITHUB_URLS = [
    "https://github.com/Antrita/NorthSeaBaltic_EHDT_Json/blob/main/EU_Dataset/Baltic_states.json",
    "https://github.com/Antrita/NorthSeaBaltic_EHDT_Json/blob/main/EU_Dataset/Belgium.json",
    "https://github.com/Antrita/NorthSeaBaltic_EHDT_Json/blob/main/EU_Dataset/Denmark.json",
    "https://github.com/Antrita/NorthSeaBaltic_EHDT_Json/blob/main/EU_Dataset/France.json",
    "https://github.com/Antrita/NorthSeaBaltic_EHDT_Json/blob/main/EU_Dataset/Germany.json",
    "https://github.com/Antrita/NorthSeaBaltic_EHDT_Json/blob/main/EU_Dataset/Luxem.json",
    "https://github.com/Antrita/NorthSeaBaltic_EHDT_Json/blob/main/EU_Dataset/Netherland.json",
    "https://github.com/Antrita/NorthSeaBaltic_EHDT_Json/blob/main/EU_Dataset/POLAND.json",
    "https://github.com/Antrita/NorthSeaBaltic_EHDT_Json/blob/main/EU_Dataset/UK.json",
    "https://github.com/Antrita/NorthSeaBaltic_EHDT_Json/blob/main/EU_Dataset/Norway_sweden.json"
]

# Define the app layout
app.layout = dbc.Container([
    dbc.Row(dbc.Col(html.H1("E-HDT Charger Professional Analysis", className="text-center mb-4"), width=12)),
    
    # Status message for data loading
    dbc.Row([
        dbc.Col(html.Div(id='data-loading-status', className="text-center mb-4")), 
    ]),
    
    # Filters
    dbc.Row([
        dbc.Col([
            html.Label("Minimum Power (kW):"),
            dcc.Slider(
                id='power-slider',
                min=0,
                max=500,
                step=10,
                value=100,
                marks={i: str(i) for i in range(0, 501, 50)},
                tooltip={"placement": "bottom", "always_visible": True}
            )
        ], width=12, md=4),
        
        dbc.Col([
            html.Label("Charger Types:"),
            dcc.Dropdown(
                id='charger-type-dropdown',
                options=[
                    {'label': 'CCS (Type 2 Combo)', 'value': 'type2_combo'},
                    {'label': 'CHAdeMO', 'value': 'chademo'},
                    {'label': 'Tesla Supercharger', 'value': 'tesla_supercharger'},
                    {'label': 'Type 2', 'value': 'type2'}
                ],
                value=['type2_combo', 'chademo', 'tesla_supercharger'],
                multi=True
            )
        ], width=12, md=4),
        
        dbc.Col([
            html.Label("Priority Countries:"),
            dcc.Dropdown(
                id='country-dropdown',
                options=[],
                multi=True,
                placeholder="Select priority countries"
            )
        ], width=12, md=4)
    ], className="mb-4"),
    
    # Tabs for different views
    dcc.Tabs([
        dcc.Tab(label='Country Analysis', children=[
            dbc.Row([
                dbc.Col(dcc.Graph(id='priority-country-map'), width=12, md=6),
                dbc.Col(dcc.Graph(id='top-countries-chart'), width=12, md=6)
            ]),
            dbc.Row([
                dbc.Col(dcc.Graph(id='public-private-chart'), width=12, md=6),
                dbc.Col(dcc.Graph(id='country-power-comparison'), width=12, md=6)
            ])
        ]),
        
        dcc.Tab(label='Operator Analysis', children=[
            dbc.Row([
                dbc.Col(dcc.Graph(id='global-operators-chart'), width=12, md=6),
                dbc.Col(dcc.Graph(id='operator-power-distribution'), width=12, md=6)
            ]),
            dbc.Row([
                dbc.Col(dcc.Graph(id='country-operator-breakdown'), width=12)
            ])
        ]),
        
        dcc.Tab(label='Charger Type Analysis', children=[
            dbc.Row([
                dbc.Col(dcc.Graph(id='charger-type-distribution'), width=12, md=6),
                dbc.Col(dcc.Graph(id='charger-power-comparison'), width=12, md=6)
            ]),
            dbc.Row([
                dbc.Col(dcc.Graph(id='country-charger-type'), width=12)
            ])
        ]),
        
        dcc.Tab(label='Data Explorer', children=[
            dbc.Row([
                dbc.Col(html.Div(id='data-table'), width=12)
            ])
        ])
    ]),
    
    # Hidden div for storing data
    html.Div(id='stored-data', style={'display': 'none'})
], fluid=True)

# Helper functions
def load_data_from_github(url):
    # Convert GitHub URL to raw content URL
    raw_url = url.replace('github.com', 'raw.githubusercontent.com').replace('/blob/', '/')
    try:
        response = requests.get(raw_url)
        response.raise_for_status()
        data = response.json()
        
        # Extract country from filename
        filename = url.split('/')[-1]
        country = filename.split('.')[0].split('_')[0]
        if "Norway_sweden" in filename.lower():
            country = "Norway/Sweden"
        elif "Baltic_states" in filename:
            country = "Baltic States"
        elif "Luxem" in filename:
            country = "Luxembourg"
        elif "Netherland" in filename:
            country = "Netherlands"
        elif "POLAND" in filename:
            country = "Poland"
        
        # Process the data
        df = process_osm_data(data, country)
        return df
    except Exception as e:
        print(f"Error loading {url}: {str(e)}")
        return None

def process_osm_data(data, country):
    elements = data.get('elements', [])
    rows = []
    
    for element in elements:
        if element.get('type') == 'node' and element.get('tags', {}).get('amenity') == 'charging_station':
            tags = element.get('tags', {})
            
            # Determine operator (prefer brand if available)
            operator = tags.get('brand', tags.get('operator', 'Unknown'))
            
            # Determine access type (public/private)
            access = tags.get('access', 'unknown').lower()
            if 'public' in access or 'yes' in access:
                access_type = 'Public'
            elif 'private' in access or 'no' in access or 'customers' in access:
                access_type = 'Private'
            else:
                access_type = 'Unknown'
            
            # Extract basic info
            row = {
                'id': element.get('id'),
                'lat': element.get('lat'),
                'lon': element.get('lon'),
                'country': country,
                'operator': operator,
                'access_type': access_type,
                'capacity': tags.get('capacity', 1),  # Default to 1 if not specified
                'fee': tags.get('fee', 'unknown')
            }
            
            # Extract charger types and power
            charger_types = {}
            for key, value in tags.items():
                if key.startswith('socket:'):
                    charger_type = key.split(':')[1]
                    if 'output' in key:
                        # Extract power value
                        power_str = str(value).lower().replace('kw', '').replace('kwh', '').strip()
                        try:
                            power = float(power_str)
                            charger_types[charger_type] = max(charger_types.get(charger_type, 0), power)
                        except:
                            pass
                    else:
                        # Just note that this charger type exists
                        charger_types[charger_type] = charger_types.get(charger_type, 0)
            
            # Add charger info to row
            row.update(charger_types)
            rows.append(row)
    
    df = pd.DataFrame(rows)
    
    # Clean and transform data
    for charger_type in ['type2_combo', 'chademo', 'tesla_supercharger', 'type2']:
        if charger_type in df.columns:
            df[f'{charger_type}_power'] = df[charger_type]
    
    # Determine max power for each station
    power_columns = [col for col in df.columns if '_power' in col]
    if power_columns:
        df['max_power'] = df[power_columns].max(axis=1)
    else:
        df['max_power'] = 0
    
    return df

def create_geo_df(df):
    if not df.empty:
        gdf = gpd.GeoDataFrame(
            df, 
            geometry=gpd.points_from_xy(df.lon, df.lat),
            crs="EPSG:4326"
        )
        return gdf
    return None

# Callback to load data on app startup
@app.callback(
    [Output('stored-data', 'children'),
     Output('country-dropdown', 'options'),
     Output('data-loading-status', 'children')],
    [Input('app-load', 'children')]
)
def load_initial_data(_):
    dfs = []
    messages = []
    all_countries = set()
    
    for url in GITHUB_URLS:
        df = load_data_from_github(url)
        if df is not None:
            dfs.append(df)
            messages.append(f"Successfully loaded data from {url.split('/')[-1]}")
            all_countries.update(df['country'].unique())
        else:
            messages.append(f"Failed to load data from {url.split('/')[-1]}")
    
    if dfs:
        combined_df = pd.concat(dfs, ignore_index=True)
        
        # Update priority countries (top 5-6 by charger count)
        country_counts = combined_df['country'].value_counts().nlargest(6).index.tolist()
        global PRIORITY_COUNTRIES
        PRIORITY_COUNTRIES = country_counts
        
        # Create dropdown options
        country_options = [{'label': country, 'value': country} for country in sorted(all_countries)]
        
        status_message = html.Div([
            html.P("Successfully loaded data for countries: " + ", ".join(sorted(all_countries))),
            html.P(f"Top priority countries: {', '.join(PRIORITY_COUNTRIES)}")
        ])
        
        return combined_df.to_json(date_format='iso', orient='split'), country_options, status_message
    else:
        return dash.no_update, [], html.Div("Failed to load any data. Please check the data sources.")

# updating all visualizations
@app.callback(
    [Output('priority-country-map', 'figure'),
     Output('top-countries-chart', 'figure'),
     Output('public-private-chart', 'figure'),
     Output('country-power-comparison', 'figure'),
     Output('global-operators-chart', 'figure'),
     Output('operator-power-distribution', 'figure'),
     Output('country-operator-breakdown', 'figure'),
     Output('charger-type-distribution', 'figure'),
     Output('charger-power-comparison', 'figure'),
     Output('country-charger-type', 'figure'),
     Output('data-table', 'children')],
    [Input('stored-data', 'children'),
     Input('power-slider', 'value'),
     Input('charger-type-dropdown', 'value'),
     Input('country-dropdown', 'value')]
)
def update_plots(json_data, min_power, charger_types, selected_countries):
    if not json_data:
        return [go.Figure()] * 11
    
    df = pd.read_json(json_data, orient='split')
    
    # Use priority countries if none selected
    if not selected_countries:
        selected_countries = PRIORITY_COUNTRIES
    
    # Filter data based on inputs
    filtered_df = df[df['max_power'] >= min_power]
    
    # Filter for selected countries
    if selected_countries:
        filtered_df = filtered_df[filtered_df['country'].isin(selected_countries)]
    
    # Filter for selected charger types
    charger_cols = []
    for ct in charger_types:
        if ct in filtered_df.columns:
            charger_cols.append(ct)
    
    if charger_cols:
        filtered_df = filtered_df[filtered_df[charger_cols].notna().any(axis=1)]
    
    if filtered_df.empty:
        return [go.Figure()] * 11
    
    # 1. Priority Country Map
    gdf = create_geo_df(filtered_df)
    if gdf is not None:
        fig_map = px.scatter_mapbox(
            gdf,
            lat=gdf.geometry.y,
            lon=gdf.geometry.x,
            hover_name='operator',
            hover_data=['max_power', 'country', 'access_type'],
            color='country',
            zoom=3,
            height=500,
            title='Charger Locations in Priority Countries'
        )
        fig_map.update_layout(
            mapbox_style="open-street-map",
            margin={"r":0,"t":40,"l":0,"b":0},
            legend=dict(orientation="h", yanchor="bottom", y=1.02, xanchor="right", x=1)
        )
    else:
        fig_map = go.Figure()
        fig_map.update_layout(title="No data to display")
    
    # 2. Top Countries Chart
    country_counts = filtered_df['country'].value_counts().reset_index()
    country_counts.columns = ['country', 'count']
    
    fig_top_countries = px.bar(
        country_counts,
        x='country',
        y='count',
        title='Charger Count by Country',
        labels={'count': 'Number of Chargers', 'country': 'Country'},
        color='country'
    )
    
    # 3. Public vs Private Chargers
    access_counts = filtered_df.groupby(['country', 'access_type']).size().reset_index(name='count')
    fig_access = px.bar(
        access_counts,
        x='country',
        y='count',
        color='access_type',
        title='Public vs Private Chargers by Country',
        labels={'count': 'Number of Chargers', 'country': 'Country'},
        barmode='group'
    )
    
    # 4. Country Power Comparison
    country_power = filtered_df.groupby('country')['max_power'].mean().reset_index()
    fig_country_power = px.bar(
        country_power,
        x='country',
        y='max_power',
        title='Average Power by Country (kW)',
        labels={'max_power': 'Average Power (kW)', 'country': 'Country'},
        color='country'
    )
    
    # 5. Global Operators Chart
    top_operators = filtered_df['operator'].value_counts().nlargest(5).reset_index()
    top_operators.columns = ['operator', 'count']
    
    fig_global_operators = px.bar(
        top_operators,
        x='operator',
        y='count',
        title='Top 5 Operators Globally',
        labels={'count': 'Number of Chargers', 'operator': 'Operator'},
        color='operator'
    )
    
    # 6. Operator Power Distribution
    operator_power = filtered_df.groupby('operator')['max_power'].mean().sort_values(ascending=False).nlargest(10).reset_index()
    operator_power.columns = ['operator', 'avg_power']
    
    fig_operator_power = px.bar(
        operator_power,
        x='operator',
        y='avg_power',
        title='Top Operators by Average Power (kW)',
        labels={'avg_power': 'Average Power (kW)', 'operator': 'Operator'},
        color='operator'
    )
    
    # 7. Country-Operator Breakdown
    country_operator = filtered_df.groupby(['country', 'operator']).size().reset_index(name='count')
    top_operators_list = top_operators['operator'].tolist()
    country_operator = country_operator[country_operator['operator'].isin(top_operators_list)]
    
    fig_country_operator = px.bar(
        country_operator,
        x='country',
        y='count',
        color='operator',
        title='Top Operators by Country',
        labels={'count': 'Number of Chargers', 'country': 'Country'},
        barmode='stack'
    )
    
    # 8. Charger Type Distribution
    charger_type_counts = []
    for ct in ['type2_combo', 'chademo', 'tesla_supercharger', 'type2']:
        if ct in filtered_df.columns:
            count = filtered_df[ct].notna().sum()
            charger_type_counts.append({'type': ct, 'count': count})
    
    if charger_type_counts:
        charger_type_df = pd.DataFrame(charger_type_counts)
        fig_charger_type = px.pie(
            charger_type_df,
            names='type',
            values='count',
            title='Charger Type Distribution'
        )
    else:
        fig_charger_type = go.Figure()
        fig_charger_type.update_layout(title="No charger type data available")
    
    # 9. Charger Power Comparison
    charger_power_data = []
    for ct in ['type2_combo', 'chademo', 'tesla_supercharger', 'type2']:
        power_col = f'{ct}_power'
        if power_col in filtered_df.columns:
            avg_power = filtered_df[power_col].mean()
            charger_power_data.append({'type': ct, 'avg_power': avg_power})
    
    if charger_power_data:
        charger_power_df = pd.DataFrame(charger_power_data)
        fig_charger_power = px.bar(
            charger_power_df,
            x='type',
            y='avg_power',
            title='Average Power by Charger Type (kW)',
            labels={'avg_power': 'Average Power (kW)', 'type': 'Charger Type'},
            color='type'
        )
    else:
        fig_charger_power = go.Figure()
        fig_charger_power.update_layout(title="No charger power data available")
    
    # 10. Country-Charger Type Breakdown
    charger_type_by_country = []
    for country in filtered_df['country'].unique():
        for ct in ['type2_combo', 'chademo', 'tesla_supercharger', 'type2']:
            if ct in filtered_df.columns:
                count = filtered_df[(filtered_df['country'] == country) & (filtered_df[ct].notna())].shape[0]
                charger_type_by_country.append({'country': country, 'type': ct, 'count': count})
    
    if charger_type_by_country:
        charger_type_country_df = pd.DataFrame(charger_type_by_country)
        fig_country_charger_type = px.bar(
            charger_type_country_df,
            x='country',
            y='count',
            color='type',
            title='Charger Type Distribution by Country',
            labels={'count': 'Number of Chargers', 'country': 'Country'},
            barmode='stack'
        )
    else:
        fig_country_charger_type = go.Figure()
        fig_country_charger_type.update_layout(title="No charger type data available")
    
    # 11. Data Table
    table_cols = ['id', 'country', 'operator', 'max_power', 'access_type', 'capacity', 'fee']
    table_cols = [col for col in table_cols if col in filtered_df.columns]
    
    table = dash_table.DataTable(
        id='table',
        columns=[{"name": col.replace('_', ' ').title(), "id": col} for col in table_cols],
        data=filtered_df[table_cols].to_dict('records'),
        page_size=10,
        style_table={'overflowX': 'auto'},
        style_cell={
            'height': 'auto',
            'minWidth': '100px', 'width': '150px', 'maxWidth': '200px',
            'whiteSpace': 'normal'
        },
        filter_action="native",
        sort_action="native"
    )
    
    return (fig_map, fig_top_countries, fig_access, fig_country_power, 
            fig_global_operators, fig_operator_power, fig_country_operator,
            fig_charger_type, fig_charger_power, fig_country_charger_type,
            table)

app.layout.children.append(html.Div(id='app-load', style={'display': 'none'}))

# Run the app
if __name__ == '__main__':
    app.run(debug=True)
